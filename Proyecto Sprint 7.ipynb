{
 "cells": [
  {
   "cell_type": "markdown",
   "metadata": {},
   "source": [
    "\n",
    "¡Hola!\n",
    "\n",
    "Mi nombre es Tonatiuh Cruz. Me complace revisar tu proyecto hoy.\n",
    "\n",
    "Al identificar cualquier error inicialmente, simplemente los destacaré. Te animo a localizar y abordar los problemas de forma independiente como parte de tu preparación para un rol como data-scientist. En un entorno profesional, tu líder de equipo seguiría un enfoque similar. Si encuentras la tarea desafiante, proporcionaré una pista más específica en la próxima iteración.\n",
    "\n",
    "Encontrarás mis comentarios a continuación - **por favor no los muevas, modifiques o elimines**.\n",
    "\n",
    "Puedes encontrar mis comentarios en cajas verdes, amarillas o rojas como esta:\n",
    "\n",
    "<div class=\"alert alert-block alert-success\">\n",
    "<b>Comentario del revisor</b> <a class=\"tocSkip\"></a>\n",
    "\n",
    "Éxito. Todo está hecho correctamente.\n",
    "</div>\n",
    "\n",
    "<div class=\"alert alert-block alert-warning\">\n",
    "<b>Comentario del revisor</b> <a class=\"tocSkip\"></a>\n",
    "\n",
    "Observaciones. Algunas recomendaciones.\n",
    "</div>\n",
    "\n",
    "<div class=\"alert alert-block alert-danger\">\n",
    "<b>Comentario del revisor</b> <a class=\"tocSkip\"></a>\n",
    "\n",
    "Necesita corrección. El bloque requiere algunas correcciones. El trabajo no puede ser aceptado con comentarios en rojo.\n",
    "</div>\n",
    "\n",
    "Puedes responderme utilizando esto:\n",
    "\n",
    "<div class=\"alert alert-block alert-info\">\n",
    "<b>Respuesta del estudiante.</b> <a class=\"tocSkip\"></a>"
   ]
  },
  {
   "cell_type": "markdown",
   "metadata": {},
   "source": [
    "# Proyecto Cliente Zuber"
   ]
  },
  {
   "cell_type": "markdown",
   "metadata": {},
   "source": [
    "## Introducción  <a id='intro'></a>\n",
    "\n",
    "Zuber es una nueva empresa de viajes compartidos que está a punto de lanzarse en Chicago. Nuestra misión es proporcionar un servicio eficiente, seguro y cómodo para nuestros pasajeros. Para lograrlo, estamos explorando patrones en la información disponible y evaluando el impacto de diversos factores en nuestros viajes."
   ]
  },
  {
   "cell_type": "markdown",
   "metadata": {},
   "source": [
    "## Objetivos del Proyecto <a id='target'></a>\n",
    "\n",
    "1. Análisis de Datos de Competidores: Comenzaremos examinando los datos de los competidores en el mercado de viajes compartidos. Esto nos permitirá identificar tendencias, áreas de oportunidad y posibles brechas en el servicio.\n",
    "2. Hipótesis sobre el Clima y la Frecuencia de Viajes: Una de nuestras hipótesis es que el clima puede afectar la demanda de viajes. Investigaremos si hay una correlación entre las condiciones climáticas (como lluvia, nieve o temperatura) y la cantidad de viajes realizados.\n",
    "\n"
   ]
  },
  {
   "cell_type": "markdown",
   "metadata": {},
   "source": [
    "<div class=\"alert alert-block alert-success\">\n",
    "\n",
    "<b>Comentario del revisor</b> <a class=\"tocSkip\"></a>\n",
    "\n",
    "\n",
    "Marco, excelente trabajo agregando una introducción al proyecto donde se especifiquen claramente los objetivos y se explique el propósito del mismo. Es esencial hacer esto para establecer las bases del proyecto y aclarar lo que buscamos alcanzar. Con la introducción, queda de manera clarar el análisis que desarrollaremos en el proyecto y cómo lo pretendemos abordar.</div>"
   ]
  },
  {
   "cell_type": "markdown",
   "metadata": {},
   "source": [
    "## Información General del Proyecto"
   ]
  },
  {
   "cell_type": "markdown",
   "metadata": {},
   "source": [
    "### Carga de librerias"
   ]
  },
  {
   "cell_type": "code",
   "execution_count": 66,
   "metadata": {},
   "outputs": [],
   "source": [
    "#caraga de librerías\n",
    "import pandas as pd\n",
    "import numpy as np\n",
    "import matplotlib.pyplot as plt\n",
    "from scipy import stats as st\n",
    "from scipy.stats import levene\n",
    "from scipy.stats import ttest_ind"
   ]
  },
  {
   "cell_type": "markdown",
   "metadata": {},
   "source": [
    "### Carga de base de datos"
   ]
  },
  {
   "cell_type": "code",
   "execution_count": 67,
   "metadata": {},
   "outputs": [
    {
     "data": {
      "text/html": [
       "<div>\n",
       "<style scoped>\n",
       "    .dataframe tbody tr th:only-of-type {\n",
       "        vertical-align: middle;\n",
       "    }\n",
       "\n",
       "    .dataframe tbody tr th {\n",
       "        vertical-align: top;\n",
       "    }\n",
       "\n",
       "    .dataframe thead th {\n",
       "        text-align: right;\n",
       "    }\n",
       "</style>\n",
       "<table border=\"1\" class=\"dataframe\">\n",
       "  <thead>\n",
       "    <tr style=\"text-align: right;\">\n",
       "      <th></th>\n",
       "      <th>company_name</th>\n",
       "      <th>trips_amount</th>\n",
       "    </tr>\n",
       "  </thead>\n",
       "  <tbody>\n",
       "    <tr>\n",
       "      <th>0</th>\n",
       "      <td>Flash Cab</td>\n",
       "      <td>19558</td>\n",
       "    </tr>\n",
       "    <tr>\n",
       "      <th>1</th>\n",
       "      <td>Taxi Affiliation Services</td>\n",
       "      <td>11422</td>\n",
       "    </tr>\n",
       "    <tr>\n",
       "      <th>2</th>\n",
       "      <td>Medallion Leasing</td>\n",
       "      <td>10367</td>\n",
       "    </tr>\n",
       "    <tr>\n",
       "      <th>3</th>\n",
       "      <td>Yellow Cab</td>\n",
       "      <td>9888</td>\n",
       "    </tr>\n",
       "    <tr>\n",
       "      <th>4</th>\n",
       "      <td>Taxi Affiliation Service Yellow</td>\n",
       "      <td>9299</td>\n",
       "    </tr>\n",
       "  </tbody>\n",
       "</table>\n",
       "</div>"
      ],
      "text/plain": [
       "                      company_name  trips_amount\n",
       "0                        Flash Cab         19558\n",
       "1        Taxi Affiliation Services         11422\n",
       "2                Medallion Leasing         10367\n",
       "3                       Yellow Cab          9888\n",
       "4  Taxi Affiliation Service Yellow          9299"
      ]
     },
     "execution_count": 67,
     "metadata": {},
     "output_type": "execute_result"
    }
   ],
   "source": [
    "#carga de base de datos cantidad de viajes por companía\n",
    "trips_by_company = pd.read_csv('/datasets/project_sql_result_01.csv')\n",
    "trips_by_company.head()\n"
   ]
  },
  {
   "cell_type": "code",
   "execution_count": 68,
   "metadata": {},
   "outputs": [
    {
     "data": {
      "text/html": [
       "<div>\n",
       "<style scoped>\n",
       "    .dataframe tbody tr th:only-of-type {\n",
       "        vertical-align: middle;\n",
       "    }\n",
       "\n",
       "    .dataframe tbody tr th {\n",
       "        vertical-align: top;\n",
       "    }\n",
       "\n",
       "    .dataframe thead th {\n",
       "        text-align: right;\n",
       "    }\n",
       "</style>\n",
       "<table border=\"1\" class=\"dataframe\">\n",
       "  <thead>\n",
       "    <tr style=\"text-align: right;\">\n",
       "      <th></th>\n",
       "      <th>dropoff_location_name</th>\n",
       "      <th>average_trips</th>\n",
       "    </tr>\n",
       "  </thead>\n",
       "  <tbody>\n",
       "    <tr>\n",
       "      <th>0</th>\n",
       "      <td>Loop</td>\n",
       "      <td>10727.466667</td>\n",
       "    </tr>\n",
       "    <tr>\n",
       "      <th>1</th>\n",
       "      <td>River North</td>\n",
       "      <td>9523.666667</td>\n",
       "    </tr>\n",
       "    <tr>\n",
       "      <th>2</th>\n",
       "      <td>Streeterville</td>\n",
       "      <td>6664.666667</td>\n",
       "    </tr>\n",
       "    <tr>\n",
       "      <th>3</th>\n",
       "      <td>West Loop</td>\n",
       "      <td>5163.666667</td>\n",
       "    </tr>\n",
       "    <tr>\n",
       "      <th>4</th>\n",
       "      <td>O'Hare</td>\n",
       "      <td>2546.900000</td>\n",
       "    </tr>\n",
       "  </tbody>\n",
       "</table>\n",
       "</div>"
      ],
      "text/plain": [
       "  dropoff_location_name  average_trips\n",
       "0                  Loop   10727.466667\n",
       "1           River North    9523.666667\n",
       "2         Streeterville    6664.666667\n",
       "3             West Loop    5163.666667\n",
       "4                O'Hare    2546.900000"
      ]
     },
     "execution_count": 68,
     "metadata": {},
     "output_type": "execute_result"
    }
   ],
   "source": [
    "#carga de base de datos de tiempos promedio de viajes por barrio\n",
    "avgtrips_by_location = pd.read_csv('/datasets/project_sql_result_04.csv')\n",
    "avgtrips_by_location.head()"
   ]
  },
  {
   "cell_type": "code",
   "execution_count": 69,
   "metadata": {},
   "outputs": [
    {
     "data": {
      "text/html": [
       "<div>\n",
       "<style scoped>\n",
       "    .dataframe tbody tr th:only-of-type {\n",
       "        vertical-align: middle;\n",
       "    }\n",
       "\n",
       "    .dataframe tbody tr th {\n",
       "        vertical-align: top;\n",
       "    }\n",
       "\n",
       "    .dataframe thead th {\n",
       "        text-align: right;\n",
       "    }\n",
       "</style>\n",
       "<table border=\"1\" class=\"dataframe\">\n",
       "  <thead>\n",
       "    <tr style=\"text-align: right;\">\n",
       "      <th></th>\n",
       "      <th>start_ts</th>\n",
       "      <th>weather_conditions</th>\n",
       "      <th>duration_seconds</th>\n",
       "    </tr>\n",
       "  </thead>\n",
       "  <tbody>\n",
       "    <tr>\n",
       "      <th>0</th>\n",
       "      <td>2017-11-25 16:00:00</td>\n",
       "      <td>Good</td>\n",
       "      <td>2410.0</td>\n",
       "    </tr>\n",
       "    <tr>\n",
       "      <th>1</th>\n",
       "      <td>2017-11-25 14:00:00</td>\n",
       "      <td>Good</td>\n",
       "      <td>1920.0</td>\n",
       "    </tr>\n",
       "    <tr>\n",
       "      <th>2</th>\n",
       "      <td>2017-11-25 12:00:00</td>\n",
       "      <td>Good</td>\n",
       "      <td>1543.0</td>\n",
       "    </tr>\n",
       "    <tr>\n",
       "      <th>3</th>\n",
       "      <td>2017-11-04 10:00:00</td>\n",
       "      <td>Good</td>\n",
       "      <td>2512.0</td>\n",
       "    </tr>\n",
       "    <tr>\n",
       "      <th>4</th>\n",
       "      <td>2017-11-11 07:00:00</td>\n",
       "      <td>Good</td>\n",
       "      <td>1440.0</td>\n",
       "    </tr>\n",
       "  </tbody>\n",
       "</table>\n",
       "</div>"
      ],
      "text/plain": [
       "              start_ts weather_conditions  duration_seconds\n",
       "0  2017-11-25 16:00:00               Good            2410.0\n",
       "1  2017-11-25 14:00:00               Good            1920.0\n",
       "2  2017-11-25 12:00:00               Good            1543.0\n",
       "3  2017-11-04 10:00:00               Good            2512.0\n",
       "4  2017-11-11 07:00:00               Good            1440.0"
      ]
     },
     "execution_count": 69,
     "metadata": {},
     "output_type": "execute_result"
    }
   ],
   "source": [
    "#carga de base de datos de duración de viajes por condición climática\n",
    "duration_trips_by_weather = pd.read_csv('/datasets/project_sql_result_07.csv')\n",
    "duration_trips_by_weather.head()"
   ]
  },
  {
   "cell_type": "markdown",
   "metadata": {},
   "source": [
    "<div class=\"alert alert-block alert-success\">\n",
    "<b>Comentario del revisor:</b> <a class=\"tocSkip\"></a>\n",
    "    \n",
    "Has realizado un excelente trabajo al importar los datos y las bibliotecas necesarias.\n",
    "\n",
    "</div>"
   ]
  },
  {
   "cell_type": "markdown",
   "metadata": {},
   "source": [
    "## Preparación de los Datos"
   ]
  },
  {
   "cell_type": "markdown",
   "metadata": {},
   "source": [
    "### Verificación de tipo de datos"
   ]
  },
  {
   "cell_type": "code",
   "execution_count": 70,
   "metadata": {},
   "outputs": [
    {
     "name": "stdout",
     "output_type": "stream",
     "text": [
      "<class 'pandas.core.frame.DataFrame'>\n",
      "RangeIndex: 64 entries, 0 to 63\n",
      "Data columns (total 2 columns):\n",
      " #   Column        Non-Null Count  Dtype \n",
      "---  ------        --------------  ----- \n",
      " 0   company_name  64 non-null     object\n",
      " 1   trips_amount  64 non-null     int64 \n",
      "dtypes: int64(1), object(1)\n",
      "memory usage: 1.1+ KB\n"
     ]
    }
   ],
   "source": [
    "trips_by_company.info() #muestra información por cantidad de viajes por companía\n"
   ]
  },
  {
   "cell_type": "code",
   "execution_count": 71,
   "metadata": {
    "scrolled": false
   },
   "outputs": [
    {
     "name": "stdout",
     "output_type": "stream",
     "text": [
      "<class 'pandas.core.frame.DataFrame'>\n",
      "RangeIndex: 94 entries, 0 to 93\n",
      "Data columns (total 2 columns):\n",
      " #   Column                 Non-Null Count  Dtype  \n",
      "---  ------                 --------------  -----  \n",
      " 0   dropoff_location_name  94 non-null     object \n",
      " 1   average_trips          94 non-null     float64\n",
      "dtypes: float64(1), object(1)\n",
      "memory usage: 1.6+ KB\n"
     ]
    }
   ],
   "source": [
    "avgtrips_by_location.info() #muestra información de promedio de duración de viaje por locación"
   ]
  },
  {
   "cell_type": "code",
   "execution_count": 72,
   "metadata": {},
   "outputs": [
    {
     "name": "stdout",
     "output_type": "stream",
     "text": [
      "<class 'pandas.core.frame.DataFrame'>\n",
      "RangeIndex: 1068 entries, 0 to 1067\n",
      "Data columns (total 3 columns):\n",
      " #   Column              Non-Null Count  Dtype  \n",
      "---  ------              --------------  -----  \n",
      " 0   start_ts            1068 non-null   object \n",
      " 1   weather_conditions  1068 non-null   object \n",
      " 2   duration_seconds    1068 non-null   float64\n",
      "dtypes: float64(1), object(2)\n",
      "memory usage: 25.2+ KB\n"
     ]
    }
   ],
   "source": [
    "duration_trips_by_weather.info() #muestra información de la tabla de duración de los viajes por condición climática"
   ]
  },
  {
   "cell_type": "markdown",
   "metadata": {},
   "source": [
    "### Verificar Duplicados"
   ]
  },
  {
   "cell_type": "code",
   "execution_count": 73,
   "metadata": {},
   "outputs": [
    {
     "data": {
      "text/html": [
       "<div>\n",
       "<style scoped>\n",
       "    .dataframe tbody tr th:only-of-type {\n",
       "        vertical-align: middle;\n",
       "    }\n",
       "\n",
       "    .dataframe tbody tr th {\n",
       "        vertical-align: top;\n",
       "    }\n",
       "\n",
       "    .dataframe thead th {\n",
       "        text-align: right;\n",
       "    }\n",
       "</style>\n",
       "<table border=\"1\" class=\"dataframe\">\n",
       "  <thead>\n",
       "    <tr style=\"text-align: right;\">\n",
       "      <th></th>\n",
       "      <th>company_name</th>\n",
       "      <th>trips_amount</th>\n",
       "    </tr>\n",
       "  </thead>\n",
       "  <tbody>\n",
       "  </tbody>\n",
       "</table>\n",
       "</div>"
      ],
      "text/plain": [
       "Empty DataFrame\n",
       "Columns: [company_name, trips_amount]\n",
       "Index: []"
      ]
     },
     "execution_count": 73,
     "metadata": {},
     "output_type": "execute_result"
    }
   ],
   "source": [
    "#verifica duplicados en la tabla de viajes por companía\n",
    "trips_by_company[trips_by_company.duplicated(keep=False)]"
   ]
  },
  {
   "cell_type": "code",
   "execution_count": 74,
   "metadata": {},
   "outputs": [
    {
     "data": {
      "text/html": [
       "<div>\n",
       "<style scoped>\n",
       "    .dataframe tbody tr th:only-of-type {\n",
       "        vertical-align: middle;\n",
       "    }\n",
       "\n",
       "    .dataframe tbody tr th {\n",
       "        vertical-align: top;\n",
       "    }\n",
       "\n",
       "    .dataframe thead th {\n",
       "        text-align: right;\n",
       "    }\n",
       "</style>\n",
       "<table border=\"1\" class=\"dataframe\">\n",
       "  <thead>\n",
       "    <tr style=\"text-align: right;\">\n",
       "      <th></th>\n",
       "      <th>dropoff_location_name</th>\n",
       "      <th>average_trips</th>\n",
       "    </tr>\n",
       "  </thead>\n",
       "  <tbody>\n",
       "  </tbody>\n",
       "</table>\n",
       "</div>"
      ],
      "text/plain": [
       "Empty DataFrame\n",
       "Columns: [dropoff_location_name, average_trips]\n",
       "Index: []"
      ]
     },
     "execution_count": 74,
     "metadata": {},
     "output_type": "execute_result"
    }
   ],
   "source": [
    "#verifica duplicados en la tabla de viajes promedio por barrio\n",
    "avgtrips_by_location[avgtrips_by_location.duplicated(keep=False)]"
   ]
  },
  {
   "cell_type": "code",
   "execution_count": 75,
   "metadata": {},
   "outputs": [
    {
     "data": {
      "text/html": [
       "<div>\n",
       "<style scoped>\n",
       "    .dataframe tbody tr th:only-of-type {\n",
       "        vertical-align: middle;\n",
       "    }\n",
       "\n",
       "    .dataframe tbody tr th {\n",
       "        vertical-align: top;\n",
       "    }\n",
       "\n",
       "    .dataframe thead th {\n",
       "        text-align: right;\n",
       "    }\n",
       "</style>\n",
       "<table border=\"1\" class=\"dataframe\">\n",
       "  <thead>\n",
       "    <tr style=\"text-align: right;\">\n",
       "      <th></th>\n",
       "      <th>start_ts</th>\n",
       "      <th>weather_conditions</th>\n",
       "      <th>duration_seconds</th>\n",
       "    </tr>\n",
       "  </thead>\n",
       "  <tbody>\n",
       "    <tr>\n",
       "      <th>4</th>\n",
       "      <td>2017-11-11 07:00:00</td>\n",
       "      <td>Good</td>\n",
       "      <td>1440.0</td>\n",
       "    </tr>\n",
       "    <tr>\n",
       "      <th>8</th>\n",
       "      <td>2017-11-11 14:00:00</td>\n",
       "      <td>Good</td>\n",
       "      <td>2460.0</td>\n",
       "    </tr>\n",
       "    <tr>\n",
       "      <th>10</th>\n",
       "      <td>2017-11-18 06:00:00</td>\n",
       "      <td>Good</td>\n",
       "      <td>1500.0</td>\n",
       "    </tr>\n",
       "    <tr>\n",
       "      <th>16</th>\n",
       "      <td>2017-11-04 12:00:00</td>\n",
       "      <td>Good</td>\n",
       "      <td>2640.0</td>\n",
       "    </tr>\n",
       "    <tr>\n",
       "      <th>23</th>\n",
       "      <td>2017-11-04 14:00:00</td>\n",
       "      <td>Good</td>\n",
       "      <td>3360.0</td>\n",
       "    </tr>\n",
       "    <tr>\n",
       "      <th>...</th>\n",
       "      <td>...</td>\n",
       "      <td>...</td>\n",
       "      <td>...</td>\n",
       "    </tr>\n",
       "    <tr>\n",
       "      <th>1054</th>\n",
       "      <td>2017-11-11 07:00:00</td>\n",
       "      <td>Good</td>\n",
       "      <td>1380.0</td>\n",
       "    </tr>\n",
       "    <tr>\n",
       "      <th>1058</th>\n",
       "      <td>2017-11-25 12:00:00</td>\n",
       "      <td>Good</td>\n",
       "      <td>1440.0</td>\n",
       "    </tr>\n",
       "    <tr>\n",
       "      <th>1062</th>\n",
       "      <td>2017-11-11 06:00:00</td>\n",
       "      <td>Good</td>\n",
       "      <td>1500.0</td>\n",
       "    </tr>\n",
       "    <tr>\n",
       "      <th>1065</th>\n",
       "      <td>2017-11-11 13:00:00</td>\n",
       "      <td>Good</td>\n",
       "      <td>2100.0</td>\n",
       "    </tr>\n",
       "    <tr>\n",
       "      <th>1066</th>\n",
       "      <td>2017-11-11 08:00:00</td>\n",
       "      <td>Good</td>\n",
       "      <td>1380.0</td>\n",
       "    </tr>\n",
       "  </tbody>\n",
       "</table>\n",
       "<p>312 rows × 3 columns</p>\n",
       "</div>"
      ],
      "text/plain": [
       "                 start_ts weather_conditions  duration_seconds\n",
       "4     2017-11-11 07:00:00               Good            1440.0\n",
       "8     2017-11-11 14:00:00               Good            2460.0\n",
       "10    2017-11-18 06:00:00               Good            1500.0\n",
       "16    2017-11-04 12:00:00               Good            2640.0\n",
       "23    2017-11-04 14:00:00               Good            3360.0\n",
       "...                   ...                ...               ...\n",
       "1054  2017-11-11 07:00:00               Good            1380.0\n",
       "1058  2017-11-25 12:00:00               Good            1440.0\n",
       "1062  2017-11-11 06:00:00               Good            1500.0\n",
       "1065  2017-11-11 13:00:00               Good            2100.0\n",
       "1066  2017-11-11 08:00:00               Good            1380.0\n",
       "\n",
       "[312 rows x 3 columns]"
      ]
     },
     "execution_count": 75,
     "metadata": {},
     "output_type": "execute_result"
    }
   ],
   "source": [
    "#verifica duplicados en la tabla de duración de viajes por condición climática\n",
    "duration_trips_by_weather[duration_trips_by_weather.duplicated(keep=False)]"
   ]
  },
  {
   "cell_type": "code",
   "execution_count": 76,
   "metadata": {},
   "outputs": [
    {
     "name": "stdout",
     "output_type": "stream",
     "text": [
      "<class 'pandas.core.frame.DataFrame'>\n",
      "Int64Index: 871 entries, 0 to 1067\n",
      "Data columns (total 3 columns):\n",
      " #   Column              Non-Null Count  Dtype  \n",
      "---  ------              --------------  -----  \n",
      " 0   start_ts            871 non-null    object \n",
      " 1   weather_conditions  871 non-null    object \n",
      " 2   duration_seconds    871 non-null    float64\n",
      "dtypes: float64(1), object(2)\n",
      "memory usage: 27.2+ KB\n"
     ]
    }
   ],
   "source": [
    "duration_trips_by_weather = duration_trips_by_weather.drop_duplicates()\n",
    "duration_trips_by_weather.info()"
   ]
  },
  {
   "cell_type": "markdown",
   "metadata": {},
   "source": [
    "* Se puede ver que los datasets no contienen información faltante y que el tipo de datos es el correcto para el análisis posterior que se realizará\n",
    "* La información la duración de los viajes por clima contiene una columna de fecha que no será convertida a formato datetime ya que no se trabajará con este dato en este proyectom por tanto no es necesario\n",
    "* Se verifican duplicados sobre los datasets y no existen novedades en sobre la información de viajes por companía ni en el tiempo de viajes por barrio, pero se encuentran duplicados en la información sobre tiempos de duración de viaje por condición climática y se proceden con la eliminación de los mismo para evitar errores en el análisis posterior"
   ]
  },
  {
   "cell_type": "markdown",
   "metadata": {},
   "source": [
    "<div class=\"alert alert-block alert-danger\">\n",
    "\n",
    "<b>Comentario del revisor</b> <a class=\"tocSkip\"></a>\n",
    "\n",
    "Para estos análisis iniciales te recomiendo verificar si contamos con registros duplicados</div>\n",
    "\n"
   ]
  },
  {
   "cell_type": "markdown",
   "metadata": {},
   "source": [
    "<div class=\"alert alert-block alert-info\">\n",
    "<b>Siguiendo la recomendación del revisor se verifican duplicados sobre los datasets donde se encontraron datos que podrían afectar las conclusiones de nuestro análisis, para evitar esto se han eliminado.</b> <a class=\"tocSkip\"></a>"
   ]
  },
  {
   "cell_type": "markdown",
   "metadata": {},
   "source": [
    "<div class=\"alert alert-block alert-success\">\n",
    "<b>Comentario del revisor</b> <a class=\"tocSkip\"></a>\n",
    "\n",
    "Muy buen trabajo con los ajustes!\n",
    "</div>"
   ]
  },
  {
   "cell_type": "markdown",
   "metadata": {},
   "source": [
    "## Análsis de datos"
   ]
  },
  {
   "cell_type": "markdown",
   "metadata": {},
   "source": [
    "### Identificar top 10 de barrios en términos de finalización del recorrido"
   ]
  },
  {
   "cell_type": "code",
   "execution_count": 77,
   "metadata": {
    "scrolled": true
   },
   "outputs": [
    {
     "data": {
      "text/html": [
       "<div>\n",
       "<style scoped>\n",
       "    .dataframe tbody tr th:only-of-type {\n",
       "        vertical-align: middle;\n",
       "    }\n",
       "\n",
       "    .dataframe tbody tr th {\n",
       "        vertical-align: top;\n",
       "    }\n",
       "\n",
       "    .dataframe thead th {\n",
       "        text-align: right;\n",
       "    }\n",
       "</style>\n",
       "<table border=\"1\" class=\"dataframe\">\n",
       "  <thead>\n",
       "    <tr style=\"text-align: right;\">\n",
       "      <th></th>\n",
       "      <th>dropoff_location_name</th>\n",
       "      <th>average_trips</th>\n",
       "    </tr>\n",
       "  </thead>\n",
       "  <tbody>\n",
       "    <tr>\n",
       "      <th>9</th>\n",
       "      <td>Sheffield &amp; DePaul</td>\n",
       "      <td>1259.766667</td>\n",
       "    </tr>\n",
       "    <tr>\n",
       "      <th>8</th>\n",
       "      <td>Gold Coast</td>\n",
       "      <td>1364.233333</td>\n",
       "    </tr>\n",
       "    <tr>\n",
       "      <th>7</th>\n",
       "      <td>Museum Campus</td>\n",
       "      <td>1510.000000</td>\n",
       "    </tr>\n",
       "    <tr>\n",
       "      <th>6</th>\n",
       "      <td>Grant Park</td>\n",
       "      <td>2068.533333</td>\n",
       "    </tr>\n",
       "    <tr>\n",
       "      <th>5</th>\n",
       "      <td>Lake View</td>\n",
       "      <td>2420.966667</td>\n",
       "    </tr>\n",
       "    <tr>\n",
       "      <th>4</th>\n",
       "      <td>O'Hare</td>\n",
       "      <td>2546.900000</td>\n",
       "    </tr>\n",
       "    <tr>\n",
       "      <th>3</th>\n",
       "      <td>West Loop</td>\n",
       "      <td>5163.666667</td>\n",
       "    </tr>\n",
       "    <tr>\n",
       "      <th>2</th>\n",
       "      <td>Streeterville</td>\n",
       "      <td>6664.666667</td>\n",
       "    </tr>\n",
       "    <tr>\n",
       "      <th>1</th>\n",
       "      <td>River North</td>\n",
       "      <td>9523.666667</td>\n",
       "    </tr>\n",
       "    <tr>\n",
       "      <th>0</th>\n",
       "      <td>Loop</td>\n",
       "      <td>10727.466667</td>\n",
       "    </tr>\n",
       "  </tbody>\n",
       "</table>\n",
       "</div>"
      ],
      "text/plain": [
       "  dropoff_location_name  average_trips\n",
       "9    Sheffield & DePaul    1259.766667\n",
       "8            Gold Coast    1364.233333\n",
       "7         Museum Campus    1510.000000\n",
       "6            Grant Park    2068.533333\n",
       "5             Lake View    2420.966667\n",
       "4                O'Hare    2546.900000\n",
       "3             West Loop    5163.666667\n",
       "2         Streeterville    6664.666667\n",
       "1           River North    9523.666667\n",
       "0                  Loop   10727.466667"
      ]
     },
     "execution_count": 77,
     "metadata": {},
     "output_type": "execute_result"
    }
   ],
   "source": [
    "#muestra el top 10 de locaciones con mayor tiempo de finalización de recorrido\n",
    "top10_time = avgtrips_by_location.sort_values(by = \"average_trips\").tail(10) \n",
    "top10_time"
   ]
  },
  {
   "cell_type": "code",
   "execution_count": 78,
   "metadata": {},
   "outputs": [
    {
     "data": {
      "image/png": "[encoded data removed]",
      "text/plain": [
       "<Figure size 1000x600 with 1 Axes>"
      ]
     },
     "metadata": {},
     "output_type": "display_data"
    }
   ],
   "source": [
    "# Datos de los 10 viajes con mayor promedio de frecuencia\n",
    "tiempo = top10_time[\"average_trips\"]\n",
    "barrios = top10_time[\"dropoff_location_name\"]\n",
    "\n",
    "# Crear la figura y el eje\n",
    "fig, ax = plt.subplots(figsize=(10, 6))\n",
    "\n",
    "# Graficar las barras\n",
    "ax.barh(barrios, tiempo, color=\"skyblue\")\n",
    "\n",
    "# Personalizar el gráfico\n",
    "ax.set_xlabel(\"Promedio Tiempo de Viajes\")\n",
    "ax.set_ylabel(\"Nombre del Barrio\")\n",
    "ax.set_title(\"Top 10 Viajes con Mayor Tiempo Promedio de Finalización\")\n",
    "\n",
    "# Mostrar el gráfico\n",
    "plt.tight_layout()\n",
    "plt.show()"
   ]
  },
  {
   "cell_type": "markdown",
   "metadata": {},
   "source": [
    "<div class=\"alert alert-block alert-success\">\n",
    "\n",
    "<b>Comentario del revisor</b> <a class=\"tocSkip\"></a>\n",
    "\n",
    "Excelente trabajo con el desarrollo de este análisis y lo complementaste con una gráfica.\n",
    "    </div>"
   ]
  },
  {
   "cell_type": "code",
   "execution_count": 79,
   "metadata": {},
   "outputs": [
    {
     "data": {
      "text/html": [
       "<div>\n",
       "<style scoped>\n",
       "    .dataframe tbody tr th:only-of-type {\n",
       "        vertical-align: middle;\n",
       "    }\n",
       "\n",
       "    .dataframe tbody tr th {\n",
       "        vertical-align: top;\n",
       "    }\n",
       "\n",
       "    .dataframe thead th {\n",
       "        text-align: right;\n",
       "    }\n",
       "</style>\n",
       "<table border=\"1\" class=\"dataframe\">\n",
       "  <thead>\n",
       "    <tr style=\"text-align: right;\">\n",
       "      <th></th>\n",
       "      <th>company_name</th>\n",
       "      <th>trips_amount</th>\n",
       "    </tr>\n",
       "  </thead>\n",
       "  <tbody>\n",
       "    <tr>\n",
       "      <th>0</th>\n",
       "      <td>Flash Cab</td>\n",
       "      <td>19558</td>\n",
       "    </tr>\n",
       "    <tr>\n",
       "      <th>1</th>\n",
       "      <td>Taxi Affiliation Services</td>\n",
       "      <td>11422</td>\n",
       "    </tr>\n",
       "    <tr>\n",
       "      <th>2</th>\n",
       "      <td>Medallion Leasing</td>\n",
       "      <td>10367</td>\n",
       "    </tr>\n",
       "    <tr>\n",
       "      <th>3</th>\n",
       "      <td>Yellow Cab</td>\n",
       "      <td>9888</td>\n",
       "    </tr>\n",
       "    <tr>\n",
       "      <th>4</th>\n",
       "      <td>Taxi Affiliation Service Yellow</td>\n",
       "      <td>9299</td>\n",
       "    </tr>\n",
       "  </tbody>\n",
       "</table>\n",
       "</div>"
      ],
      "text/plain": [
       "                      company_name  trips_amount\n",
       "0                        Flash Cab         19558\n",
       "1        Taxi Affiliation Services         11422\n",
       "2                Medallion Leasing         10367\n",
       "3                       Yellow Cab          9888\n",
       "4  Taxi Affiliation Service Yellow          9299"
      ]
     },
     "execution_count": 79,
     "metadata": {},
     "output_type": "execute_result"
    }
   ],
   "source": [
    "trips_by_company.head() #muestra la cabecera la tabla que muestra la cantidad de viajes por companía"
   ]
  },
  {
   "cell_type": "markdown",
   "metadata": {},
   "source": [
    "### Identificar top 10 de empresas de taxis con mayor número de viajes"
   ]
  },
  {
   "cell_type": "code",
   "execution_count": 80,
   "metadata": {
    "scrolled": false
   },
   "outputs": [
    {
     "data": {
      "text/html": [
       "<div>\n",
       "<style scoped>\n",
       "    .dataframe tbody tr th:only-of-type {\n",
       "        vertical-align: middle;\n",
       "    }\n",
       "\n",
       "    .dataframe tbody tr th {\n",
       "        vertical-align: top;\n",
       "    }\n",
       "\n",
       "    .dataframe thead th {\n",
       "        text-align: right;\n",
       "    }\n",
       "</style>\n",
       "<table border=\"1\" class=\"dataframe\">\n",
       "  <thead>\n",
       "    <tr style=\"text-align: right;\">\n",
       "      <th></th>\n",
       "      <th>company_name</th>\n",
       "      <th>trips_amount</th>\n",
       "    </tr>\n",
       "  </thead>\n",
       "  <tbody>\n",
       "    <tr>\n",
       "      <th>9</th>\n",
       "      <td>Blue Ribbon Taxi Association Inc.</td>\n",
       "      <td>5953</td>\n",
       "    </tr>\n",
       "    <tr>\n",
       "      <th>8</th>\n",
       "      <td>Star North Management LLC</td>\n",
       "      <td>7455</td>\n",
       "    </tr>\n",
       "    <tr>\n",
       "      <th>7</th>\n",
       "      <td>Sun Taxi</td>\n",
       "      <td>7701</td>\n",
       "    </tr>\n",
       "    <tr>\n",
       "      <th>6</th>\n",
       "      <td>City Service</td>\n",
       "      <td>8448</td>\n",
       "    </tr>\n",
       "    <tr>\n",
       "      <th>5</th>\n",
       "      <td>Chicago Carriage Cab Corp</td>\n",
       "      <td>9181</td>\n",
       "    </tr>\n",
       "    <tr>\n",
       "      <th>4</th>\n",
       "      <td>Taxi Affiliation Service Yellow</td>\n",
       "      <td>9299</td>\n",
       "    </tr>\n",
       "    <tr>\n",
       "      <th>3</th>\n",
       "      <td>Yellow Cab</td>\n",
       "      <td>9888</td>\n",
       "    </tr>\n",
       "    <tr>\n",
       "      <th>2</th>\n",
       "      <td>Medallion Leasing</td>\n",
       "      <td>10367</td>\n",
       "    </tr>\n",
       "    <tr>\n",
       "      <th>1</th>\n",
       "      <td>Taxi Affiliation Services</td>\n",
       "      <td>11422</td>\n",
       "    </tr>\n",
       "    <tr>\n",
       "      <th>0</th>\n",
       "      <td>Flash Cab</td>\n",
       "      <td>19558</td>\n",
       "    </tr>\n",
       "  </tbody>\n",
       "</table>\n",
       "</div>"
      ],
      "text/plain": [
       "                        company_name  trips_amount\n",
       "9  Blue Ribbon Taxi Association Inc.          5953\n",
       "8          Star North Management LLC          7455\n",
       "7                           Sun Taxi          7701\n",
       "6                       City Service          8448\n",
       "5          Chicago Carriage Cab Corp          9181\n",
       "4    Taxi Affiliation Service Yellow          9299\n",
       "3                         Yellow Cab          9888\n",
       "2                  Medallion Leasing         10367\n",
       "1          Taxi Affiliation Services         11422\n",
       "0                          Flash Cab         19558"
      ]
     },
     "execution_count": 80,
     "metadata": {},
     "output_type": "execute_result"
    }
   ],
   "source": [
    "#genera el top 10 de la empresas de taxis con mayor número de viajes\n",
    "top10_trips = trips_by_company.sort_values(by = \"trips_amount\").tail(10)\n",
    "top10_trips"
   ]
  },
  {
   "cell_type": "code",
   "execution_count": 81,
   "metadata": {},
   "outputs": [
    {
     "data": {
      "image/png": "[encoded data removed]",
      "text/plain": [
       "<Figure size 1000x600 with 1 Axes>"
      ]
     },
     "metadata": {},
     "output_type": "display_data"
    }
   ],
   "source": [
    "# Datos de las 10 empresas con mayor número de viajes\n",
    "viajes = top10_trips[\"trips_amount\"]\n",
    "empresas = top10_trips[\"company_name\"]\n",
    "\n",
    "# Crear la figura y el eje\n",
    "fig, ax = plt.subplots(figsize=(10, 6))\n",
    "\n",
    "# Graficar las barras\n",
    "ax.barh(empresas, viajes, color=\"skyblue\")\n",
    "\n",
    "# Personalizar el gráfico\n",
    "ax.set_xlabel(\"Cantidad de Viajes\")\n",
    "ax.set_ylabel(\"Nombre de la Companía\")\n",
    "ax.set_title(\"Top 10 Viajes Companías con más Viajes\")\n",
    "\n",
    "# Mostrar el gráfico\n",
    "plt.tight_layout()\n",
    "plt.show()"
   ]
  },
  {
   "cell_type": "markdown",
   "metadata": {},
   "source": [
    "<div class=\"alert alert-block alert-success\">\n",
    "\n",
    "<b>Comentario del revisor</b> <a class=\"tocSkip\"></a>\n",
    "\n",
    "Excelente trabajo con el desarrollo de este análisis, muestras de manera clara cuales son los 10 principales barrios en términos de finalización del recorrido\n",
    "    </div>"
   ]
  },
  {
   "cell_type": "markdown",
   "metadata": {},
   "source": [
    "* Del análisis realizado sobre los datos de los barrios con mayor tiempo de finalización de recorrido, el barrio de Loop se ubica en el top, seguido por Rivernoth y Streeterville cuya duración está aproximadamente 40% abajo del tiempo que general Loop\n",
    "\n",
    "* Adicional, de entre las empresas de transporte más demandadas por cantidad de viajes, encontramos a Flash Cab como el líder indiscutible, con el 40% más de viajes que la segunda companía que es Taxi Affiliation Services y muy cerca de ésta, se encuentra Medallion Leasing."
   ]
  },
  {
   "cell_type": "markdown",
   "metadata": {},
   "source": [
    "## Prueba de Hipótesis"
   ]
  },
  {
   "cell_type": "markdown",
   "metadata": {},
   "source": [
    "### Prueba la hipótesis:\n",
    "\n",
    "\"La duración promedio de los viajes desde el Loop hasta el Aeropuerto Internacional O'Hare cambia los sábados lluviosos\"."
   ]
  },
  {
   "cell_type": "code",
   "execution_count": 82,
   "metadata": {
    "scrolled": true
   },
   "outputs": [
    {
     "name": "stdout",
     "output_type": "stream",
     "text": [
      "<class 'pandas.core.frame.DataFrame'>\n",
      "Int64Index: 871 entries, 0 to 1067\n",
      "Data columns (total 3 columns):\n",
      " #   Column              Non-Null Count  Dtype  \n",
      "---  ------              --------------  -----  \n",
      " 0   start_ts            871 non-null    object \n",
      " 1   weather_conditions  871 non-null    object \n",
      " 2   duration_seconds    871 non-null    float64\n",
      "dtypes: float64(1), object(2)\n",
      "memory usage: 27.2+ KB\n"
     ]
    }
   ],
   "source": [
    "duration_trips_by_weather.info() #muestra información del dataset"
   ]
  },
  {
   "cell_type": "code",
   "execution_count": 83,
   "metadata": {},
   "outputs": [
    {
     "name": "stdout",
     "output_type": "stream",
     "text": [
      "No se puede rechazar la hipótesis sobre las varianzas\n",
      "\n"
     ]
    }
   ],
   "source": [
    "#verifica si las varianzas de las poblaciones son iguales\n",
    "#filtra por condición climática\n",
    "bad_weather = duration_trips_by_weather.query(\"weather_conditions == 'Bad'\")[\"duration_seconds\"]\n",
    "good_weather = duration_trips_by_weather.query(\"weather_conditions == 'Good'\")[\"duration_seconds\"]\n",
    "\n",
    "alpha = 0.05 #nivel de significancia\n",
    "\n",
    "#determina si las varianzas son iguales\n",
    "bad_weather1 = bad_weather.reset_index()\n",
    "good_weather1 = good_weather.reset_index()\n",
    "test = levene(bad_weather1['duration_seconds'], good_weather1['duration_seconds'])\n",
    "if test.pvalue < alpha:\n",
    "    print(\"Las varianzas no son iguales\")\n",
    "else:\n",
    "    \n",
    "    print(\"No se puede rechazar la hipótesis sobre las varianzas\")\n",
    "    print()\n",
    "\n",
    "\n"
   ]
  },
  {
   "cell_type": "code",
   "execution_count": 84,
   "metadata": {},
   "outputs": [
    {
     "name": "stdout",
     "output_type": "stream",
     "text": [
      "El valor p_value es: 7.397770692813658e-08\n",
      "\n",
      "Se descarta hipótesis nula\n"
     ]
    }
   ],
   "source": [
    "alpha = 0.05 #nivel de significancia asumido\n",
    "\n",
    "#evalúa con el método ttest las poblaciones de las condiciones climáticas 'Bad' o 'Good'\n",
    "stat, p_value = ttest_ind(\n",
    "    duration_trips_by_weather.query(\"weather_conditions == 'Bad'\")[\"duration_seconds\"],\n",
    "    duration_trips_by_weather.query(\"weather_conditions == 'Good'\")[\"duration_seconds\"], equal_var=True\n",
    ")\n",
    "\n",
    "print(f'El valor p_value es: {p_value}')\n",
    "print()\n",
    "\n",
    "#compara el valor p_value del ttest con el nivel de significancia\n",
    "if p_value < alpha:\n",
    "    print('Se descarta hipótesis nula')\n",
    "else:\n",
    "    print('No se puede desacartar la hipótesis')\n",
    "    \n",
    "    "
   ]
  },
  {
   "cell_type": "markdown",
   "metadata": {},
   "source": [
    " <div class=\"alert alert-block alert-danger\">\n",
    "<b>Comentario revisor</b> <a class=\"tocSkip\"></a>\n",
    "\n",
    "Para esta prueba te recomiendo hacer una prueba de  Levene  para mostrar si las varianzas son iguales y agregarlo dentro de la función. Actualmente lo colocas como equal_var=True. Para esto, primero debes calcular las varianzas para cada uno de los días (lluvioso y no lluvioso) debes de hacer uso de la siguiente función: \n",
    "    \n",
    "    levene(rainy_saturday_trips['duration_seconds'], non_rainy_saturday_trips ['duration_seconds'])\n",
    "    \n",
    "Adoptaremos un nivel de significancia de 0.05; si el valor p resultante es mayor a 0.05, no podemos rechazar la hipótesis nula, y si es menor a 0.05, rechazamos la hipótesis nula, indicando que las varianzas no son iguales. \n",
    "    \n",
    "Solamente recuerda que la prueba de levene no es sustituto a la prueba de st.ttest_ind, más bien es complemento para saber que colocar dentro del elemento \"equal_var\".  Es por eso que para terminar la prueba debes de realizar la prueba de st.ttest_ind considernado el resultado de la prueba realizada de levene.  \n",
    "</div>"
   ]
  },
  {
   "cell_type": "markdown",
   "metadata": {},
   "source": [
    "<div class=\"alert alert-block alert-info\">\n",
    "<b>Siguiendo la recomendación del revisor y usando la prueba de Levene se pudo verificar que las varianzas son iguales cuyo dato se usa en el ttest</b> <a class=\"tocSkip\"></a>"
   ]
  },
  {
   "cell_type": "markdown",
   "metadata": {},
   "source": [
    "<div class=\"alert alert-block alert-success\">\n",
    "<b>Comentario del revisor</b> <a class=\"tocSkip\"></a>\n",
    "\n",
    "Muy buen trabajo con los ajustes!\n",
    "</div>"
   ]
  },
  {
   "cell_type": "code",
   "execution_count": 85,
   "metadata": {},
   "outputs": [
    {
     "data": {
      "text/html": [
       "<div>\n",
       "<style scoped>\n",
       "    .dataframe tbody tr th:only-of-type {\n",
       "        vertical-align: middle;\n",
       "    }\n",
       "\n",
       "    .dataframe tbody tr th {\n",
       "        vertical-align: top;\n",
       "    }\n",
       "\n",
       "    .dataframe thead th {\n",
       "        text-align: right;\n",
       "    }\n",
       "</style>\n",
       "<table border=\"1\" class=\"dataframe\">\n",
       "  <thead>\n",
       "    <tr style=\"text-align: right;\">\n",
       "      <th></th>\n",
       "      <th>weather_conditions</th>\n",
       "      <th>duration_seconds</th>\n",
       "    </tr>\n",
       "  </thead>\n",
       "  <tbody>\n",
       "    <tr>\n",
       "      <th>0</th>\n",
       "      <td>Bad</td>\n",
       "      <td>2409.229730</td>\n",
       "    </tr>\n",
       "    <tr>\n",
       "      <th>1</th>\n",
       "      <td>Good</td>\n",
       "      <td>2032.253112</td>\n",
       "    </tr>\n",
       "  </tbody>\n",
       "</table>\n",
       "</div>"
      ],
      "text/plain": [
       "  weather_conditions  duration_seconds\n",
       "0                Bad       2409.229730\n",
       "1               Good       2032.253112"
      ]
     },
     "execution_count": 85,
     "metadata": {},
     "output_type": "execute_result"
    }
   ],
   "source": [
    "#Obtiene el promedio de duración de viajes agrupado por condición climática\n",
    "weather_trips = duration_trips_by_weather.groupby('weather_conditions')['duration_seconds'].mean().reset_index()\n",
    "weather_trips"
   ]
  },
  {
   "cell_type": "code",
   "execution_count": 86,
   "metadata": {},
   "outputs": [
    {
     "data": {
      "image/png": "[encoded data removed]",
      "text/plain": [
       "<Figure size 640x480 with 1 Axes>"
      ]
     },
     "metadata": {},
     "output_type": "display_data"
    }
   ],
   "source": [
    "# Gráfico de duración promedio de viajes según las condiciones climáticas\n",
    "weather_conditions = weather_trips['weather_conditions']\n",
    "duracion_promedio = weather_trips['duration_seconds']\n",
    "\n",
    "# Crea un gráfico de barras\n",
    "plt.bar(weather_conditions, duracion_promedio)\n",
    "plt.xlabel('Condiciones Climáticas')\n",
    "plt.ylabel('Duración Promedio (segundos)')\n",
    "plt.title('Duración Promedio de Viajes según las Condiciones Climáticas')\n",
    "plt.show()"
   ]
  },
  {
   "cell_type": "markdown",
   "metadata": {},
   "source": [
    "* Para plantear la hipótesis nula y alternativa, partimos del supuesto de que el comportamiento del clima NO incide sobre la duración promedio de los viajes desde el Loop hasta el Aeropuerto Internacional de O'Hare, es decir las medias de ambas poblaciones son iguales\n",
    "\n",
    "* El resultado dependerá del resultado del ttest donde se evalúan las medias de ambas poblaciones y la comparación con el nivel de significancia que para este caso se ha establecido en 0.05 \n",
    "\n",
    "* Luego del análisis, hemos obtenido que indica que se descarta la hipótesis nula, esto quiere decir que el clima si afecta la duración promedio de los viajes entre el Loop y el aeropuerto de O'Hare\n",
    "\n",
    "* Como refuerzo a nuestra hipótesis, se ha elaborado un diagrama de barras que nos confirma que efectivamente el promedio de viajes duran más los días con malas condiciones climáticas"
   ]
  },
  {
   "cell_type": "markdown",
   "metadata": {},
   "source": [
    "## Conclusiones Generales\n",
    "\n",
    "* En el análisis de la competencia, podemos ver que la companía de taxis Flash Cab es el principal competidor con el que tendríamos que lidiar y al que deberíamos ponerle especial cuidado ya que está aproximdamente 40% sobre la companía que sigue en segundo lugar que es Taxi Affiliation Services, el resto de companías están por debajo de estos valores\n",
    "\n",
    "* Otro punto importante a tener en cuenta son los tramos de viajes que tienen mayor tiempo de duración, lo que nos dará una idea clara de donde deberán ubicarse nuestras unidades con más freciencia si queremos maximizar nuestras ganancias, de hecho barrios como Loop, River North y Streeterville se destacan en este análisis\n",
    "\n",
    "* Por último, un dato importante que nos deja nuestro análisis de hipótesis y que lo comprobamos adicionalmente con una gráfica, es que el tiempo promedio por viaje aumenta de acuerdo con el clima, denotando así que en días lluviosos o de mal clima, los promedios por viaje aumentan, aproximadamente 20% adicional que en día con buenas condiciones climáticas, dato que podríamos usar a nuestro favor para elaborar nuestro algortimo de cobros basado en condiciones climáticas por ejemplo."
   ]
  },
  {
   "cell_type": "markdown",
   "metadata": {},
   "source": [
    "<div class=\"alert alert-block alert-warning\">\n",
    "<b>Comentario revisor</b> <a class=\"tocSkip\"></a>\n",
    "\n",
    "En general, considero que realizaste un excelente trabajo con el proyecto. Lograste limpiar y organizar las bases de datos eficazmente. Además, tu análisis exploratorio fue exhaustivo, presentando resultados relevantes que serán muy útiles para la toma de decisiones. También, desarrollaste las pruebas de hipótesis de manera acertada. Sin embargo, siempre hay espacio para mejorar y quisiera señalar algunos aspectos que podrías considerar:\n",
    "\n",
    "\n",
    "* Realizar un análisis de duplicados\n",
    "    \n",
    "*  Realizar análisis complementarios eliminando los valores que parecen ser atípicos.    \n",
    "    \n",
    "*  Considerar desarrollar un análisis para comprobar los supuestos de la prueba de hipótesis (varianzas iguales)\n",
    "    \n",
    "    \n",
    "</div>"
   ]
  },
  {
   "cell_type": "markdown",
   "metadata": {},
   "source": [
    "<div class=\"alert alert-block alert-success\">\n",
    "<b>Comentario del revisor</b> <a class=\"tocSkip\"></a>\n",
    "\n",
    "Muy buen trabajo con los ajustes! Que sigas disfrutando los siguientes cursos!\n",
    "</div>"
   ]
  }
 ],
 "metadata": {
  "ExecuteTimeLog": [
   {
    "duration": 5,
    "start_time": "2024-06-24T04:28:07.931Z"
   },
   {
    "duration": 4,
    "start_time": "2024-06-24T04:28:10.740Z"
   },
   {
    "duration": 3,
    "start_time": "2024-06-24T04:37:26.383Z"
   },
   {
    "duration": 4857,
    "start_time": "2024-06-24T04:38:05.565Z"
   },
   {
    "duration": 433,
    "start_time": "2024-06-24T04:40:53.281Z"
   },
   {
    "duration": 4,
    "start_time": "2024-06-24T04:41:00.165Z"
   },
   {
    "duration": 41,
    "start_time": "2024-06-24T04:41:00.173Z"
   },
   {
    "duration": 16,
    "start_time": "2024-06-24T04:41:29.757Z"
   },
   {
    "duration": 17,
    "start_time": "2024-06-24T04:42:21.761Z"
   },
   {
    "duration": 14,
    "start_time": "2024-06-24T04:42:25.976Z"
   },
   {
    "duration": 17,
    "start_time": "2024-06-24T04:42:57.237Z"
   },
   {
    "duration": 13,
    "start_time": "2024-06-24T04:43:07.651Z"
   },
   {
    "duration": 5,
    "start_time": "2024-06-24T04:45:45.173Z"
   },
   {
    "duration": 25,
    "start_time": "2024-06-24T04:45:49.458Z"
   },
   {
    "duration": 15,
    "start_time": "2024-06-24T04:45:54.276Z"
   },
   {
    "duration": 21,
    "start_time": "2024-06-24T04:46:10.806Z"
   },
   {
    "duration": 13,
    "start_time": "2024-06-24T04:46:23.118Z"
   },
   {
    "duration": 13,
    "start_time": "2024-06-24T04:46:26.684Z"
   },
   {
    "duration": 26,
    "start_time": "2024-06-24T04:52:36.852Z"
   },
   {
    "duration": 25,
    "start_time": "2024-06-24T04:52:45.563Z"
   },
   {
    "duration": 24,
    "start_time": "2024-06-24T04:53:12.220Z"
   },
   {
    "duration": 6,
    "start_time": "2024-06-24T04:53:22.492Z"
   },
   {
    "duration": 11,
    "start_time": "2024-06-24T04:53:29.832Z"
   },
   {
    "duration": 13,
    "start_time": "2024-06-24T04:53:41.840Z"
   },
   {
    "duration": 34,
    "start_time": "2024-06-24T04:53:59.700Z"
   },
   {
    "duration": 15,
    "start_time": "2024-06-24T04:54:20.584Z"
   },
   {
    "duration": 11,
    "start_time": "2024-06-24T04:54:55.825Z"
   },
   {
    "duration": 27,
    "start_time": "2024-06-24T04:56:23.757Z"
   },
   {
    "duration": 22,
    "start_time": "2024-06-24T04:56:56.358Z"
   },
   {
    "duration": 20,
    "start_time": "2024-06-24T04:57:06.704Z"
   },
   {
    "duration": 24,
    "start_time": "2024-06-24T04:59:08.724Z"
   },
   {
    "duration": 221,
    "start_time": "2024-06-24T05:02:10.451Z"
   },
   {
    "duration": 385,
    "start_time": "2024-06-24T05:02:40.396Z"
   },
   {
    "duration": 95,
    "start_time": "2024-06-24T05:05:58.196Z"
   },
   {
    "duration": 14,
    "start_time": "2024-06-24T05:06:01.861Z"
   },
   {
    "duration": 410,
    "start_time": "2024-06-24T05:06:05.048Z"
   },
   {
    "duration": 9,
    "start_time": "2024-06-24T05:06:35.550Z"
   },
   {
    "duration": 11,
    "start_time": "2024-06-24T05:07:15.178Z"
   },
   {
    "duration": 409,
    "start_time": "2024-06-24T05:07:20.180Z"
   },
   {
    "duration": 13,
    "start_time": "2024-06-24T05:07:31.379Z"
   },
   {
    "duration": 432,
    "start_time": "2024-06-24T05:08:43.128Z"
   },
   {
    "duration": 860,
    "start_time": "2024-06-24T05:11:01.262Z"
   },
   {
    "duration": 416,
    "start_time": "2024-06-24T05:11:35.581Z"
   },
   {
    "duration": 685,
    "start_time": "2024-06-24T05:12:57.814Z"
   },
   {
    "duration": 21,
    "start_time": "2024-06-24T05:13:15.747Z"
   },
   {
    "duration": 4,
    "start_time": "2024-06-24T14:26:12.052Z"
   },
   {
    "duration": 4834,
    "start_time": "2024-06-24T14:39:31.141Z"
   },
   {
    "duration": 83,
    "start_time": "2024-06-24T14:39:35.979Z"
   },
   {
    "duration": 16,
    "start_time": "2024-06-24T14:39:36.066Z"
   },
   {
    "duration": 34,
    "start_time": "2024-06-24T14:39:36.085Z"
   },
   {
    "duration": 14,
    "start_time": "2024-06-24T14:39:36.124Z"
   },
   {
    "duration": 13,
    "start_time": "2024-06-24T14:39:36.141Z"
   },
   {
    "duration": 12,
    "start_time": "2024-06-24T14:39:36.158Z"
   },
   {
    "duration": 469,
    "start_time": "2024-06-24T14:39:36.213Z"
   },
   {
    "duration": 10,
    "start_time": "2024-06-24T14:39:36.685Z"
   },
   {
    "duration": 11,
    "start_time": "2024-06-24T14:39:36.713Z"
   },
   {
    "duration": 444,
    "start_time": "2024-06-24T14:39:36.727Z"
   },
   {
    "duration": 1158,
    "start_time": "2024-06-24T14:52:56.796Z"
   },
   {
    "duration": 17,
    "start_time": "2024-06-24T14:52:57.960Z"
   },
   {
    "duration": 14,
    "start_time": "2024-06-24T14:52:57.980Z"
   },
   {
    "duration": 15,
    "start_time": "2024-06-24T14:52:58.013Z"
   },
   {
    "duration": 14,
    "start_time": "2024-06-24T14:52:58.032Z"
   },
   {
    "duration": 16,
    "start_time": "2024-06-24T14:52:58.049Z"
   },
   {
    "duration": 48,
    "start_time": "2024-06-24T14:52:58.069Z"
   },
   {
    "duration": 449,
    "start_time": "2024-06-24T14:52:58.121Z"
   },
   {
    "duration": 10,
    "start_time": "2024-06-24T14:52:58.573Z"
   },
   {
    "duration": 33,
    "start_time": "2024-06-24T14:52:58.587Z"
   },
   {
    "duration": 461,
    "start_time": "2024-06-24T14:52:58.624Z"
   },
   {
    "duration": 459,
    "start_time": "2024-06-24T14:57:35.608Z"
   },
   {
    "duration": 15,
    "start_time": "2024-06-24T14:58:00.492Z"
   },
   {
    "duration": 13,
    "start_time": "2024-06-24T14:58:27.994Z"
   },
   {
    "duration": 15,
    "start_time": "2024-06-24T14:58:50.946Z"
   },
   {
    "duration": 13,
    "start_time": "2024-06-24T14:59:23.370Z"
   },
   {
    "duration": 11,
    "start_time": "2024-06-24T15:00:29.201Z"
   },
   {
    "duration": 5,
    "start_time": "2024-06-24T15:05:27.885Z"
   },
   {
    "duration": 10,
    "start_time": "2024-06-24T15:05:52.465Z"
   },
   {
    "duration": 33,
    "start_time": "2024-06-24T15:06:22.863Z"
   },
   {
    "duration": 13,
    "start_time": "2024-06-24T15:10:16.203Z"
   },
   {
    "duration": 8,
    "start_time": "2024-06-24T15:17:40.133Z"
   },
   {
    "duration": 6,
    "start_time": "2024-06-24T15:18:02.093Z"
   },
   {
    "duration": 12,
    "start_time": "2024-06-24T15:19:05.290Z"
   },
   {
    "duration": 10,
    "start_time": "2024-06-24T15:19:18.142Z"
   },
   {
    "duration": 13,
    "start_time": "2024-06-24T15:23:42.654Z"
   },
   {
    "duration": 8,
    "start_time": "2024-06-24T15:31:44.802Z"
   },
   {
    "duration": 7,
    "start_time": "2024-06-24T15:32:07.985Z"
   },
   {
    "duration": 7,
    "start_time": "2024-06-24T15:32:21.863Z"
   },
   {
    "duration": 7,
    "start_time": "2024-06-24T15:32:26.810Z"
   },
   {
    "duration": 7,
    "start_time": "2024-06-24T15:32:36.039Z"
   },
   {
    "duration": 13,
    "start_time": "2024-06-24T15:35:14.160Z"
   },
   {
    "duration": 15,
    "start_time": "2024-06-24T15:41:16.153Z"
   },
   {
    "duration": 32,
    "start_time": "2024-06-24T15:44:28.155Z"
   },
   {
    "duration": 12,
    "start_time": "2024-06-24T15:44:34.374Z"
   },
   {
    "duration": 15,
    "start_time": "2024-06-24T17:44:31.838Z"
   },
   {
    "duration": 17,
    "start_time": "2024-06-24T17:45:09.673Z"
   },
   {
    "duration": 18,
    "start_time": "2024-06-24T17:45:41.247Z"
   },
   {
    "duration": 21,
    "start_time": "2024-06-24T17:46:10.472Z"
   },
   {
    "duration": 35,
    "start_time": "2024-06-24T17:46:40.805Z"
   },
   {
    "duration": 19,
    "start_time": "2024-06-24T17:48:56.261Z"
   },
   {
    "duration": 12,
    "start_time": "2024-06-24T17:58:37.479Z"
   },
   {
    "duration": 5,
    "start_time": "2024-06-24T17:58:55.204Z"
   },
   {
    "duration": 16,
    "start_time": "2024-06-24T17:58:55.213Z"
   },
   {
    "duration": 14,
    "start_time": "2024-06-24T17:58:55.233Z"
   },
   {
    "duration": 18,
    "start_time": "2024-06-24T17:58:55.251Z"
   },
   {
    "duration": 51,
    "start_time": "2024-06-24T17:58:55.273Z"
   },
   {
    "duration": 14,
    "start_time": "2024-06-24T17:58:55.328Z"
   },
   {
    "duration": 22,
    "start_time": "2024-06-24T17:58:55.345Z"
   },
   {
    "duration": 50,
    "start_time": "2024-06-24T17:58:55.370Z"
   },
   {
    "duration": 467,
    "start_time": "2024-06-24T17:58:55.425Z"
   },
   {
    "duration": 41,
    "start_time": "2024-06-24T17:58:55.896Z"
   },
   {
    "duration": 13,
    "start_time": "2024-06-24T17:58:55.942Z"
   },
   {
    "duration": 480,
    "start_time": "2024-06-24T17:58:55.960Z"
   },
   {
    "duration": 15,
    "start_time": "2024-06-24T17:58:56.445Z"
   },
   {
    "duration": 13,
    "start_time": "2024-06-24T17:58:56.464Z"
   },
   {
    "duration": 11,
    "start_time": "2024-06-24T18:00:03.265Z"
   },
   {
    "duration": 11,
    "start_time": "2024-06-24T18:00:10.072Z"
   },
   {
    "duration": 13,
    "start_time": "2024-06-24T18:00:21.889Z"
   },
   {
    "duration": 444,
    "start_time": "2024-06-24T18:00:40.063Z"
   },
   {
    "duration": 444,
    "start_time": "2024-06-24T18:00:51.231Z"
   },
   {
    "duration": 11,
    "start_time": "2024-06-24T18:03:02.849Z"
   },
   {
    "duration": 10,
    "start_time": "2024-06-24T18:03:27.376Z"
   },
   {
    "duration": 14,
    "start_time": "2024-06-24T19:51:37.890Z"
   },
   {
    "duration": 311,
    "start_time": "2024-06-24T19:53:07.621Z"
   },
   {
    "duration": 6,
    "start_time": "2024-06-24T20:00:45.433Z"
   },
   {
    "duration": 4824,
    "start_time": "2024-06-24T20:01:05.561Z"
   },
   {
    "duration": 27,
    "start_time": "2024-06-24T20:01:10.389Z"
   },
   {
    "duration": 15,
    "start_time": "2024-06-24T20:01:10.420Z"
   },
   {
    "duration": 18,
    "start_time": "2024-06-24T20:01:10.437Z"
   },
   {
    "duration": 15,
    "start_time": "2024-06-24T20:01:10.461Z"
   },
   {
    "duration": 43,
    "start_time": "2024-06-24T20:01:10.479Z"
   },
   {
    "duration": 13,
    "start_time": "2024-06-24T20:01:10.526Z"
   },
   {
    "duration": 12,
    "start_time": "2024-06-24T20:01:10.542Z"
   },
   {
    "duration": 449,
    "start_time": "2024-06-24T20:01:10.560Z"
   },
   {
    "duration": 9,
    "start_time": "2024-06-24T20:01:11.013Z"
   },
   {
    "duration": 131,
    "start_time": "2024-06-24T20:01:11.025Z"
   },
   {
    "duration": 0,
    "start_time": "2024-06-24T20:01:11.159Z"
   },
   {
    "duration": 0,
    "start_time": "2024-06-24T20:01:11.162Z"
   },
   {
    "duration": 0,
    "start_time": "2024-06-24T20:01:11.165Z"
   },
   {
    "duration": 27,
    "start_time": "2024-06-24T20:01:21.605Z"
   },
   {
    "duration": 11,
    "start_time": "2024-06-24T20:02:14.769Z"
   },
   {
    "duration": 421,
    "start_time": "2024-06-24T20:02:20.447Z"
   },
   {
    "duration": 14,
    "start_time": "2024-06-24T20:02:49.686Z"
   },
   {
    "duration": 13,
    "start_time": "2024-06-24T20:03:03.827Z"
   },
   {
    "duration": 11,
    "start_time": "2024-06-24T20:03:37.378Z"
   },
   {
    "duration": 18,
    "start_time": "2024-06-24T20:10:12.022Z"
   },
   {
    "duration": 16,
    "start_time": "2024-06-24T20:11:23.280Z"
   },
   {
    "duration": 11,
    "start_time": "2024-06-24T20:11:36.876Z"
   },
   {
    "duration": 27,
    "start_time": "2024-06-24T20:12:03.284Z"
   },
   {
    "duration": 7,
    "start_time": "2024-06-24T20:13:18.668Z"
   },
   {
    "duration": 13,
    "start_time": "2024-06-24T20:17:38.343Z"
   },
   {
    "duration": 677,
    "start_time": "2024-06-24T20:18:49.795Z"
   },
   {
    "duration": 6,
    "start_time": "2024-06-24T20:19:27.018Z"
   },
   {
    "duration": 10,
    "start_time": "2024-06-24T20:19:35.224Z"
   },
   {
    "duration": 171,
    "start_time": "2024-06-24T20:19:41.737Z"
   },
   {
    "duration": 82,
    "start_time": "2024-06-24T21:02:27.990Z"
   },
   {
    "duration": 11,
    "start_time": "2024-06-24T21:03:09.186Z"
   },
   {
    "duration": 7,
    "start_time": "2024-06-24T21:04:14.526Z"
   },
   {
    "duration": 121,
    "start_time": "2024-06-24T21:06:39.641Z"
   },
   {
    "duration": 5,
    "start_time": "2024-06-24T21:06:54.322Z"
   },
   {
    "duration": 19,
    "start_time": "2024-06-24T21:06:54.332Z"
   },
   {
    "duration": 25,
    "start_time": "2024-06-24T21:06:54.353Z"
   },
   {
    "duration": 45,
    "start_time": "2024-06-24T21:06:54.382Z"
   },
   {
    "duration": 15,
    "start_time": "2024-06-24T21:06:54.431Z"
   },
   {
    "duration": 23,
    "start_time": "2024-06-24T21:06:54.451Z"
   },
   {
    "duration": 47,
    "start_time": "2024-06-24T21:06:54.477Z"
   },
   {
    "duration": 13,
    "start_time": "2024-06-24T21:06:54.528Z"
   },
   {
    "duration": 429,
    "start_time": "2024-06-24T21:06:54.544Z"
   },
   {
    "duration": 9,
    "start_time": "2024-06-24T21:06:54.977Z"
   },
   {
    "duration": 12,
    "start_time": "2024-06-24T21:06:55.011Z"
   },
   {
    "duration": 491,
    "start_time": "2024-06-24T21:06:55.027Z"
   },
   {
    "duration": 19,
    "start_time": "2024-06-24T21:06:55.522Z"
   },
   {
    "duration": 14,
    "start_time": "2024-06-24T21:06:55.546Z"
   },
   {
    "duration": 84,
    "start_time": "2024-06-24T21:06:55.564Z"
   },
   {
    "duration": 0,
    "start_time": "2024-06-24T21:06:55.651Z"
   },
   {
    "duration": 14,
    "start_time": "2024-06-24T21:07:42.148Z"
   },
   {
    "duration": 161,
    "start_time": "2024-06-24T21:07:54.255Z"
   },
   {
    "duration": 14,
    "start_time": "2024-06-24T21:10:14.535Z"
   },
   {
    "duration": 250,
    "start_time": "2024-06-24T21:10:17.407Z"
   },
   {
    "duration": 13,
    "start_time": "2024-06-24T21:12:53.739Z"
   },
   {
    "duration": 15,
    "start_time": "2024-06-24T21:13:15.498Z"
   },
   {
    "duration": 16,
    "start_time": "2024-06-24T21:13:19.677Z"
   },
   {
    "duration": 11,
    "start_time": "2024-06-24T21:13:56.462Z"
   },
   {
    "duration": 9,
    "start_time": "2024-06-24T21:14:41.571Z"
   },
   {
    "duration": 17,
    "start_time": "2024-06-24T21:18:01.347Z"
   },
   {
    "duration": 14,
    "start_time": "2024-06-24T21:18:27.293Z"
   },
   {
    "duration": 14,
    "start_time": "2024-06-24T21:18:57.243Z"
   },
   {
    "duration": 15,
    "start_time": "2024-06-24T21:20:15.894Z"
   },
   {
    "duration": 4,
    "start_time": "2024-06-24T21:20:20.829Z"
   },
   {
    "duration": 16,
    "start_time": "2024-06-24T21:20:20.837Z"
   },
   {
    "duration": 15,
    "start_time": "2024-06-24T21:20:20.856Z"
   },
   {
    "duration": 48,
    "start_time": "2024-06-24T21:20:20.873Z"
   },
   {
    "duration": 17,
    "start_time": "2024-06-24T21:20:20.927Z"
   },
   {
    "duration": 20,
    "start_time": "2024-06-24T21:20:20.948Z"
   },
   {
    "duration": 53,
    "start_time": "2024-06-24T21:20:20.972Z"
   },
   {
    "duration": 12,
    "start_time": "2024-06-24T21:20:21.028Z"
   },
   {
    "duration": 429,
    "start_time": "2024-06-24T21:20:21.043Z"
   },
   {
    "duration": 11,
    "start_time": "2024-06-24T21:20:21.475Z"
   },
   {
    "duration": 15,
    "start_time": "2024-06-24T21:20:21.514Z"
   },
   {
    "duration": 446,
    "start_time": "2024-06-24T21:20:21.532Z"
   },
   {
    "duration": 13,
    "start_time": "2024-06-24T21:20:21.981Z"
   },
   {
    "duration": 13,
    "start_time": "2024-06-24T21:20:22.015Z"
   },
   {
    "duration": 17,
    "start_time": "2024-06-24T21:20:22.032Z"
   },
   {
    "duration": 203,
    "start_time": "2024-06-24T21:20:22.052Z"
   },
   {
    "duration": 306,
    "start_time": "2024-06-26T11:50:40.731Z"
   },
   {
    "duration": 4720,
    "start_time": "2024-06-26T11:50:52.726Z"
   },
   {
    "duration": 25,
    "start_time": "2024-06-26T11:50:57.450Z"
   },
   {
    "duration": 20,
    "start_time": "2024-06-26T11:50:57.478Z"
   },
   {
    "duration": 33,
    "start_time": "2024-06-26T11:50:57.502Z"
   },
   {
    "duration": 10,
    "start_time": "2024-06-26T11:50:57.541Z"
   },
   {
    "duration": 16,
    "start_time": "2024-06-26T11:50:57.554Z"
   },
   {
    "duration": 15,
    "start_time": "2024-06-26T11:50:57.573Z"
   },
   {
    "duration": 13,
    "start_time": "2024-06-26T11:50:57.634Z"
   },
   {
    "duration": 12,
    "start_time": "2024-06-26T11:50:57.650Z"
   },
   {
    "duration": 451,
    "start_time": "2024-06-26T11:50:57.665Z"
   },
   {
    "duration": 16,
    "start_time": "2024-06-26T11:50:58.119Z"
   },
   {
    "duration": 11,
    "start_time": "2024-06-26T11:50:58.138Z"
   },
   {
    "duration": 449,
    "start_time": "2024-06-26T11:50:58.152Z"
   },
   {
    "duration": 13,
    "start_time": "2024-06-26T11:50:58.607Z"
   },
   {
    "duration": 15,
    "start_time": "2024-06-26T11:50:58.634Z"
   },
   {
    "duration": 15,
    "start_time": "2024-06-26T11:50:58.652Z"
   },
   {
    "duration": 209,
    "start_time": "2024-06-26T11:50:58.669Z"
   },
   {
    "duration": 8,
    "start_time": "2024-06-26T11:51:30.358Z"
   },
   {
    "duration": 8,
    "start_time": "2024-06-26T11:53:26.582Z"
   },
   {
    "duration": 9,
    "start_time": "2024-06-26T11:54:00.877Z"
   },
   {
    "duration": 16,
    "start_time": "2024-06-26T11:54:34.390Z"
   },
   {
    "duration": 17,
    "start_time": "2024-06-26T11:55:23.403Z"
   },
   {
    "duration": 21,
    "start_time": "2024-06-26T11:55:41.628Z"
   },
   {
    "duration": 11,
    "start_time": "2024-06-26T11:55:54.759Z"
   },
   {
    "duration": 16,
    "start_time": "2024-06-26T11:56:07.747Z"
   },
   {
    "duration": 10,
    "start_time": "2024-06-26T11:58:14.494Z"
   },
   {
    "duration": 9,
    "start_time": "2024-06-26T11:58:24.308Z"
   },
   {
    "duration": 9,
    "start_time": "2024-06-26T11:58:46.521Z"
   },
   {
    "duration": 11,
    "start_time": "2024-06-26T12:01:08.168Z"
   },
   {
    "duration": 10,
    "start_time": "2024-06-26T12:01:16.402Z"
   },
   {
    "duration": 9,
    "start_time": "2024-06-26T12:02:10.310Z"
   },
   {
    "duration": 9,
    "start_time": "2024-06-26T12:02:33.165Z"
   },
   {
    "duration": 16,
    "start_time": "2024-06-26T12:03:05.610Z"
   },
   {
    "duration": 5,
    "start_time": "2024-06-26T12:04:01.980Z"
   },
   {
    "duration": 20,
    "start_time": "2024-06-26T12:04:06.329Z"
   },
   {
    "duration": 18,
    "start_time": "2024-06-26T12:04:17.169Z"
   },
   {
    "duration": 19,
    "start_time": "2024-06-26T12:04:44.226Z"
   },
   {
    "duration": 7,
    "start_time": "2024-06-26T12:05:39.890Z"
   },
   {
    "duration": 15,
    "start_time": "2024-06-26T12:05:50.861Z"
   },
   {
    "duration": 4,
    "start_time": "2024-06-26T12:10:20.242Z"
   },
   {
    "duration": 14,
    "start_time": "2024-06-26T12:10:20.251Z"
   },
   {
    "duration": 15,
    "start_time": "2024-06-26T12:10:20.268Z"
   },
   {
    "duration": 53,
    "start_time": "2024-06-26T12:10:20.287Z"
   },
   {
    "duration": 15,
    "start_time": "2024-06-26T12:10:20.343Z"
   },
   {
    "duration": 14,
    "start_time": "2024-06-26T12:10:20.362Z"
   },
   {
    "duration": 62,
    "start_time": "2024-06-26T12:10:20.379Z"
   },
   {
    "duration": 11,
    "start_time": "2024-06-26T12:10:20.444Z"
   },
   {
    "duration": 11,
    "start_time": "2024-06-26T12:10:20.460Z"
   },
   {
    "duration": 68,
    "start_time": "2024-06-26T12:10:20.474Z"
   },
   {
    "duration": 16,
    "start_time": "2024-06-26T12:10:20.545Z"
   },
   {
    "duration": 11,
    "start_time": "2024-06-26T12:10:20.564Z"
   },
   {
    "duration": 409,
    "start_time": "2024-06-26T12:10:20.578Z"
   },
   {
    "duration": 9,
    "start_time": "2024-06-26T12:10:20.991Z"
   },
   {
    "duration": 33,
    "start_time": "2024-06-26T12:10:21.002Z"
   },
   {
    "duration": 470,
    "start_time": "2024-06-26T12:10:21.038Z"
   },
   {
    "duration": 22,
    "start_time": "2024-06-26T12:10:21.512Z"
   },
   {
    "duration": 17,
    "start_time": "2024-06-26T12:10:21.538Z"
   },
   {
    "duration": 13,
    "start_time": "2024-06-26T12:10:21.558Z"
   },
   {
    "duration": 228,
    "start_time": "2024-06-26T12:10:21.574Z"
   },
   {
    "duration": 14,
    "start_time": "2024-06-26T12:36:14.058Z"
   },
   {
    "duration": 23,
    "start_time": "2024-06-26T12:38:04.236Z"
   },
   {
    "duration": 188,
    "start_time": "2024-06-26T12:39:15.610Z"
   },
   {
    "duration": 5,
    "start_time": "2024-06-26T12:39:53.323Z"
   },
   {
    "duration": 17,
    "start_time": "2024-06-26T12:40:08.968Z"
   },
   {
    "duration": 5,
    "start_time": "2024-06-26T12:44:53.728Z"
   },
   {
    "duration": 15,
    "start_time": "2024-06-26T12:44:53.737Z"
   },
   {
    "duration": 15,
    "start_time": "2024-06-26T12:44:53.755Z"
   },
   {
    "duration": 57,
    "start_time": "2024-06-26T12:44:53.775Z"
   },
   {
    "duration": 14,
    "start_time": "2024-06-26T12:44:53.834Z"
   },
   {
    "duration": 14,
    "start_time": "2024-06-26T12:44:53.851Z"
   },
   {
    "duration": 16,
    "start_time": "2024-06-26T12:44:53.869Z"
   },
   {
    "duration": 52,
    "start_time": "2024-06-26T12:44:53.888Z"
   },
   {
    "duration": 10,
    "start_time": "2024-06-26T12:44:53.945Z"
   },
   {
    "duration": 17,
    "start_time": "2024-06-26T12:44:53.958Z"
   },
   {
    "duration": 67,
    "start_time": "2024-06-26T12:44:53.979Z"
   },
   {
    "duration": 11,
    "start_time": "2024-06-26T12:44:54.049Z"
   },
   {
    "duration": 418,
    "start_time": "2024-06-26T12:44:54.064Z"
   },
   {
    "duration": 9,
    "start_time": "2024-06-26T12:44:54.485Z"
   },
   {
    "duration": 36,
    "start_time": "2024-06-26T12:44:54.497Z"
   },
   {
    "duration": 458,
    "start_time": "2024-06-26T12:44:54.536Z"
   },
   {
    "duration": 15,
    "start_time": "2024-06-26T12:44:54.997Z"
   },
   {
    "duration": 17,
    "start_time": "2024-06-26T12:44:55.033Z"
   },
   {
    "duration": 12,
    "start_time": "2024-06-26T12:44:55.054Z"
   },
   {
    "duration": 14,
    "start_time": "2024-06-26T12:44:55.069Z"
   },
   {
    "duration": 216,
    "start_time": "2024-06-26T12:44:55.086Z"
   }
  ],
  "kernelspec": {
   "display_name": "Python 3 (ipykernel)",
   "language": "python",
   "name": "python3"
  },
  "language_info": {
   "codemirror_mode": {
    "name": "ipython",
    "version": 3
   },
   "file_extension": ".py",
   "mimetype": "text/x-python",
   "name": "python",
   "nbconvert_exporter": "python",
   "pygments_lexer": "ipython3",
   "version": "3.9.19"
  },
  "toc": {
   "base_numbering": 1,
   "nav_menu": {},
   "number_sections": true,
   "sideBar": true,
   "skip_h1_title": true,
   "title_cell": "Table of Contents",
   "title_sidebar": "Contents",
   "toc_cell": false,
   "toc_position": {
    "height": "calc(100% - 180px)",
    "left": "10px",
    "top": "150px",
    "width": "257.188px"
   },
   "toc_section_display": true,
   "toc_window_display": false
  }
 },
 "nbformat": 4,
 "nbformat_minor": 2
}
